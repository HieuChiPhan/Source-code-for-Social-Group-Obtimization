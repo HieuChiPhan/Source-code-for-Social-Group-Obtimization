{
 "cells": [
  {
   "cell_type": "code",
   "execution_count": 1,
   "metadata": {},
   "outputs": [],
   "source": [
    "################ SOCIAL GROUP OPTIMIZATION ###################"
   ]
  },
  {
   "cell_type": "code",
   "execution_count": 2,
   "metadata": {},
   "outputs": [],
   "source": [
    "import scipy\n",
    "from scipy.linalg import eig\n",
    "from scipy.optimize import differential_evolution\n",
    "import numpy as np\n",
    "from scipy.optimize import rosen\n",
    "from random import random\n",
    "from random import uniform\n",
    "from random import randint\n",
    "from random import choice\n",
    "import numpy as np"
   ]
  },
  {
   "cell_type": "code",
   "execution_count": 3,
   "metadata": {
    "scrolled": true
   },
   "outputs": [],
   "source": [
    "######## SUB-FUNCTIONS ##############\n",
    "\n",
    "# N: number of people\n",
    "# bounds: list of tuples of boundaries for each design variables\n",
    "\n",
    "def initization(N, bounds):   \n",
    "    D=len(bounds)\n",
    "    X=[]\n",
    "    i=0\n",
    "    while i < N:\n",
    "        x=[]\n",
    "        for i in range(D):\n",
    "                x.append(bounds[i][0] + random()*(bounds[i][1] - bounds[i][0]))\n",
    "        x.append(min_func(x))\n",
    "#         print(x)\n",
    "        X.append(x)\n",
    "        i=len(X)\n",
    "    return np.array(X)\n",
    "\n",
    "def improving_phase(X, c):\n",
    "    D=X.shape[1]\n",
    "    min_index=int(np.where(X == min(X[:,-1]))[0])\n",
    "    best=X[min_index,:-1] \n",
    "    for k in range (N):       \n",
    "        r0=uniform(-1,1)\n",
    "        candidate_X_k=X[k,:-1]\n",
    "        for i in range(D-1):\n",
    "#             r0=uniform(0,1)\n",
    "            candidate_X_k_i = c*X[k,i] + r0*(best[i] - X[k,i])\n",
    "            if candidate_X_k_i < bounds[i][0] or candidate_X_k_i > bounds[i][1]:\n",
    "                candidate_X_k_i = (candidate_X_k_i+bounds[i][0])/2\n",
    "#                 candidate_X_k_i = bounds[i][0]\n",
    "                \n",
    "                candidate_X_k[i]=candidate_X_k_i\n",
    "        if min_func(candidate_X_k) < X[k,-1]: \n",
    "            X[k,:-1]=candidate_X_k\n",
    "            X[k,-1]=min_func(candidate_X_k)\n",
    "    return X\n",
    "\n",
    "\n",
    "def acquiring_phase(X):\n",
    "    D=X.shape[1]\n",
    "    min_index=int(np.where(X == min(X[:,-1]))[0])\n",
    "    best=X[min_index,:-1]\n",
    "\n",
    "    for k in range (N): \n",
    "        r1=uniform(-1,1)\n",
    "        if k!=min_index:\n",
    "            range_choice=list(range(0,N))\n",
    "            range_choice.remove(min_index)                     \n",
    "            range_choice.remove(k)       \n",
    "            r=choice(range_choice)    \n",
    "            if X[k,-1] > X[r,-1]:\n",
    "                r2=uniform(-1,1)\n",
    "                candidate_X_k=X[k,:-1] + r1*(X[r,:-1] - X[k,:-1])\n",
    "                for i in range(D-1):                    \n",
    "                    candidate_X_k[i] +=  r2*(best[i] - X[k,i])\n",
    "                    if candidate_X_k[i] < bounds[i][0] or candidate_X_k[i] > bounds[i][1]:\n",
    "                        candidate_X_k[i] = (candidate_X_k[i]+bounds[i][0])/2\n",
    "                if min_func(candidate_X_k) < X[k,-1]: \n",
    "                    X[k,:-1] = candidate_X_k              \n",
    "                    X[k,-1] = min_func(candidate_X_k) \n",
    "            elif X[k,-1] < X[r,-1]:\n",
    "                r1=uniform(-1,1)\n",
    "                r2=uniform(-1,1)\n",
    "                candidate_X_k = X[k,:-1]\n",
    "                for i in range(D-1):\n",
    "                    candidate_X_k[i] += r1*(X[k,i] - X[r,i]) + r2*(best[i] - X[k,i])\n",
    "                    if candidate_X_k[i] < bounds[i][0] or candidate_X_k[i] > bounds[i][1]:\n",
    "                        candidate_X_k[i] = (candidate_X_k[i]+bounds[i][0])/2\n",
    "                if min_func(candidate_X_k) < X[k,-1]: \n",
    "                    X[k,:-1] = candidate_X_k              \n",
    "                    X[k,-1] = min_func(candidate_X_k)\n",
    "    return X\n"
   ]
  },
  {
   "cell_type": "code",
   "execution_count": 4,
   "metadata": {},
   "outputs": [],
   "source": [
    "######## OBJECTIVE FUNCTION MINIMUM ##############\n",
    "def min_func(a):\n",
    "    result=rosen(a)\n",
    "    return result"
   ]
  },
  {
   "cell_type": "code",
   "execution_count": 5,
   "metadata": {},
   "outputs": [],
   "source": [
    "######## MAIN OPTIMIZATION FUNCTION ##############\n",
    "\n",
    "def social_group_optimization(min_func, bounds, N, generation, c, data_record=False):\n",
    "    INI=initization(N, bounds)       \n",
    "    #### with number of interaction ###\n",
    "    data=[]\n",
    "    for ii in range (generation):\n",
    "        \n",
    "        IMP=improving_phase(INI, c)\n",
    "        ACQ=acquiring_phase(IMP)\n",
    "        INI=ACQ\n",
    "        \n",
    "    ###### data recording ##########\n",
    "        try:\n",
    "            min_index=int(np.where(INI == min(INI[:,-1]))[0])\n",
    "            best=INI[min_index]      \n",
    "            max_index=int(np.where(INI == max(INI[:,-1]))[0])\n",
    "            worst=INI[max_index]        \n",
    "            try:\n",
    "                if ii/100 == round(ii/100):\n",
    "                    print(\"Generation number:  \", round(ii,0), \"         best: \",\n",
    "                          round(best[-1],5), \"         worst: \", round(worst[-1],5))\n",
    "            except:\n",
    "                pass\n",
    "        except:\n",
    "            pass\n",
    "        if data_record:            \n",
    "            data.append([list(best), list(worst)])\n",
    "        \n",
    "        \n",
    "    return best, data"
   ]
  },
  {
   "cell_type": "code",
   "execution_count": 6,
   "metadata": {
    "scrolled": true
   },
   "outputs": [
    {
     "name": "stdout",
     "output_type": "stream",
     "text": [
      "Generation number:   0          best:  11.38195          worst:  1074.88796\n",
      "Generation number:   100          best:  0.86184          worst:  9.29001\n",
      "Generation number:   200          best:  0.76983          worst:  6.81596\n",
      "Generation number:   300          best:  0.74992          worst:  2.44971\n",
      "Generation number:   400          best:  0.73946          worst:  2.44971\n",
      "Generation number:   500          best:  0.73946          worst:  2.44971\n",
      "Generation number:   600          best:  0.73946          worst:  1.65062\n",
      "Generation number:   700          best:  0.73946          worst:  1.65062\n",
      "Generation number:   800          best:  0.73946          worst:  1.54251\n",
      "Generation number:   900          best:  0.73946          worst:  1.54251\n",
      "Generation number:   1000          best:  0.73946          worst:  1.54251\n",
      "Generation number:   1100          best:  0.73946          worst:  1.54251\n",
      "Generation number:   1200          best:  0.73946          worst:  1.28504\n",
      "Generation number:   1300          best:  0.72981          worst:  1.28504\n",
      "Generation number:   1400          best:  0.72981          worst:  1.23716\n",
      "Generation number:   1500          best:  0.72981          worst:  1.2236\n",
      "Generation number:   1600          best:  0.72981          worst:  1.2236\n",
      "Generation number:   1700          best:  0.72981          worst:  1.2236\n",
      "Generation number:   1800          best:  0.72981          worst:  1.2236\n",
      "Generation number:   1900          best:  0.72981          worst:  1.2236\n",
      "Generation number:   2000          best:  0.72981          worst:  1.2236\n",
      "Generation number:   2100          best:  0.72835          worst:  0.96202\n",
      "Generation number:   2200          best:  0.72835          worst:  0.96202\n",
      "Generation number:   2300          best:  0.70417          worst:  0.95666\n",
      "Generation number:   2400          best:  0.70399          worst:  0.95666\n",
      "Generation number:   2500          best:  0.68118          worst:  0.91373\n",
      "Generation number:   2600          best:  0.68118          worst:  0.91373\n",
      "Generation number:   2700          best:  0.68118          worst:  0.84582\n",
      "Generation number:   2800          best:  0.68118          worst:  0.84582\n",
      "Generation number:   2900          best:  0.68118          worst:  0.84582\n",
      "Generation number:   3000          best:  0.68118          worst:  0.84582\n",
      "Generation number:   3100          best:  0.65577          worst:  0.84582\n",
      "Generation number:   3200          best:  0.65577          worst:  0.84582\n",
      "Generation number:   3300          best:  0.65577          worst:  0.84582\n",
      "Generation number:   3400          best:  0.65463          worst:  0.84582\n",
      "Generation number:   3500          best:  0.64544          worst:  0.84582\n",
      "Generation number:   3600          best:  0.64544          worst:  0.84582\n",
      "Generation number:   3700          best:  0.64544          worst:  0.84582\n",
      "Generation number:   3800          best:  0.50658          worst:  0.84582\n",
      "Generation number:   3900          best:  0.38577          worst:  0.84582\n",
      "Generation number:   4000          best:  0.38577          worst:  0.84582\n",
      "Generation number:   4100          best:  0.31437          worst:  0.84582\n",
      "Generation number:   4200          best:  0.26579          worst:  0.84582\n",
      "Generation number:   4300          best:  0.26579          worst:  0.76464\n",
      "Generation number:   4400          best:  0.26579          worst:  0.76464\n",
      "Generation number:   4500          best:  0.26579          worst:  0.76464\n",
      "Generation number:   4600          best:  0.26579          worst:  0.76464\n",
      "Generation number:   4700          best:  0.26579          worst:  0.76464\n",
      "Generation number:   4800          best:  0.25541          worst:  0.76464\n",
      "Generation number:   4900          best:  0.25258          worst:  0.7002\n",
      "Generation number:   5000          best:  0.2476          worst:  0.7002\n",
      "Generation number:   5100          best:  0.20293          worst:  0.7002\n",
      "Generation number:   5200          best:  0.16749          worst:  0.7002\n",
      "Generation number:   5300          best:  0.16749          worst:  0.5658\n",
      "Generation number:   5400          best:  0.16749          worst:  0.5658\n",
      "Generation number:   5500          best:  0.16749          worst:  0.5658\n",
      "Generation number:   5600          best:  0.16749          worst:  0.5658\n",
      "Generation number:   5700          best:  0.16749          worst:  0.5658\n",
      "Generation number:   5800          best:  0.16749          worst:  0.5658\n",
      "Generation number:   5900          best:  0.16494          worst:  0.5658\n",
      "Generation number:   6000          best:  0.16494          worst:  0.5658\n",
      "Generation number:   6100          best:  0.16494          worst:  0.5658\n",
      "Generation number:   6200          best:  0.16494          worst:  0.5658\n",
      "Generation number:   6300          best:  0.16494          worst:  0.5658\n",
      "Generation number:   6400          best:  0.16494          worst:  0.5658\n",
      "Generation number:   6500          best:  0.16494          worst:  0.5658\n",
      "Generation number:   6600          best:  0.11933          worst:  0.5658\n",
      "Generation number:   6700          best:  0.11933          worst:  0.5658\n",
      "Generation number:   6800          best:  0.04895          worst:  0.5658\n",
      "Generation number:   6900          best:  0.04074          worst:  0.5658\n",
      "Generation number:   7000          best:  0.0122          worst:  0.5658\n",
      "Generation number:   7100          best:  0.0122          worst:  0.5658\n",
      "Generation number:   7200          best:  0.01012          worst:  0.5658\n",
      "Generation number:   7300          best:  0.00955          worst:  0.5658\n",
      "Generation number:   7400          best:  0.00691          worst:  0.5658\n",
      "Generation number:   7500          best:  0.00691          worst:  0.5658\n",
      "Generation number:   7600          best:  0.00691          worst:  0.5658\n",
      "Generation number:   7700          best:  0.00691          worst:  0.5658\n",
      "Generation number:   7800          best:  0.00691          worst:  0.5658\n",
      "Generation number:   7900          best:  0.00691          worst:  0.5658\n",
      "Generation number:   8000          best:  0.00691          worst:  0.5658\n",
      "Generation number:   8100          best:  0.00691          worst:  0.22474\n",
      "Generation number:   8200          best:  0.00691          worst:  0.22474\n",
      "Generation number:   8300          best:  0.00691          worst:  0.22474\n",
      "Generation number:   8400          best:  0.00691          worst:  0.22474\n",
      "Generation number:   8500          best:  0.00691          worst:  0.12082\n",
      "Generation number:   8600          best:  0.00691          worst:  0.12082\n",
      "Generation number:   8700          best:  0.00691          worst:  0.12082\n",
      "Generation number:   8800          best:  0.00691          worst:  0.12082\n",
      "Generation number:   8900          best:  0.00691          worst:  0.12082\n",
      "Generation number:   9000          best:  0.00691          worst:  0.12082\n",
      "Generation number:   9100          best:  0.00278          worst:  0.12082\n",
      "Generation number:   9200          best:  0.00278          worst:  0.12082\n",
      "Generation number:   9300          best:  0.00278          worst:  0.12082\n",
      "Generation number:   9400          best:  0.00278          worst:  0.12082\n",
      "Generation number:   9500          best:  0.00278          worst:  0.12082\n",
      "Generation number:   9600          best:  0.00278          worst:  0.12082\n",
      "Generation number:   9700          best:  0.00278          worst:  0.12082\n",
      "Generation number:   9800          best:  0.00278          worst:  0.12082\n",
      "Generation number:   9900          best:  0.00278          worst:  0.12082\n"
     ]
    }
   ],
   "source": [
    "bounds = [(0, 2), (0, 2), (0, 2), (0, 2), (0, 2)]               \n",
    "N=50\n",
    "generation=10000\n",
    "c=0.7\n",
    "best,data=social_group_optimization(min_func, bounds, N, generation, c, True) \n"
   ]
  },
  {
   "cell_type": "code",
   "execution_count": 7,
   "metadata": {},
   "outputs": [
    {
     "name": "stdout",
     "output_type": "stream",
     "text": [
      "Best design parameters:  [0.99967834 0.99975529 0.99940881 0.99463585 0.99243461]\n",
      "Best Objective Function:  0.002777496490812081\n"
     ]
    }
   ],
   "source": [
    "print(\"Best design parameters: \", best[:-1])\n",
    "print(\"Best Objective Function: \", best[-1])"
   ]
  },
  {
   "cell_type": "code",
   "execution_count": 11,
   "metadata": {
    "scrolled": true
   },
   "outputs": [
    {
     "data": {
      "image/png": "[encoded data removed]",
      "text/plain": [
       "<Figure size 432x288 with 1 Axes>"
      ]
     },
     "metadata": {},
     "output_type": "display_data"
    }
   ],
   "source": [
    "# import matplotlib.pyplot as plt\n",
    "\n",
    "# data=np.asarray(data)\n",
    "# data.shape\n",
    "\n",
    "# x_cord=np.arange(data.shape[0])\n",
    "\n",
    "# fig = plt.figure()\n",
    "# plt.plot(x_cord,data[:,1,-1], color=\"r\")\n",
    "# plt.plot(x_cord,data[:,0,-1], color=\"b\")\n",
    "# plt.yscale(\"log\")\n",
    "# # plt.xscale(\"log\")\n",
    "# plt.show()"
   ]
  },
  {
   "cell_type": "code",
   "execution_count": 12,
   "metadata": {},
   "outputs": [
    {
     "name": "stdout",
     "output_type": "stream",
     "text": [
      "Best design parameters:  [1. 1. 1. 1. 1.]\n",
      "Best Objective Function:  0.0\n"
     ]
    }
   ],
   "source": [
    "########## Validating with DE ############\n",
    "bounds = [(0, 2), (0, 2), (0, 2), (0, 2), (0, 2)]\n",
    "\n",
    "result = differential_evolution(min_func, bounds)\n",
    "print(\"Best design parameters: \", result.x)\n",
    "print(\"Best Objective Function: \", result.fun)"
   ]
  }
 ],
 "metadata": {
  "kernelspec": {
   "display_name": "Python 3",
   "language": "python",
   "name": "python3"
  },
  "language_info": {
   "codemirror_mode": {
    "name": "ipython",
    "version": 3
   },
   "file_extension": ".py",
   "mimetype": "text/x-python",
   "name": "python",
   "nbconvert_exporter": "python",
   "pygments_lexer": "ipython3",
   "version": "3.6.5"
  }
 },
 "nbformat": 4,
 "nbformat_minor": 2
}
